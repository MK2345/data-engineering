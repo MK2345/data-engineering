{
 "cells": [
  {
   "cell_type": "code",
   "execution_count": 1,
   "id": "d0463d91",
   "metadata": {},
   "outputs": [],
   "source": [
    "'''\n",
    "a list is surrounded by square brackets, with commas between # items\n",
    "\n",
    "'''\n",
    "list = [\"this\", \"is\", 1, \"list\"]"
   ]
  },
  {
   "cell_type": "code",
   "execution_count": 2,
   "id": "3f75e095",
   "metadata": {},
   "outputs": [],
   "source": [
    "'''\n",
    "a dict is a set of key:value pairs, separated by commas and surrounded\n",
    "by curly braces\n",
    "'''\n",
    "\n",
    "dict = {\"title\":\"Practical Python for Data Wrangling and Data Quality\",\n",
    "\"format\":\"book\",\n",
    "\"author\":\"Susan E. MCGregor\"}"
   ]
  },
  {
   "cell_type": "code",
   "execution_count": 3,
   "id": "0b53041c",
   "metadata": {},
   "outputs": [
    {
     "name": "stdout",
     "output_type": "stream",
     "text": [
      "['this', 'is', 1, 'list']\n"
     ]
    }
   ],
   "source": [
    "print(list)"
   ]
  },
  {
   "cell_type": "code",
   "execution_count": 4,
   "id": "b5eca5a8",
   "metadata": {},
   "outputs": [
    {
     "name": "stdout",
     "output_type": "stream",
     "text": [
      "{'title': 'Practical Python for Data Wrangling and Data Quality', 'format': 'book', 'author': 'Susan E. MCGregor'}\n"
     ]
    }
   ],
   "source": [
    "print(dict)"
   ]
  },
  {
   "cell_type": "code",
   "execution_count": 5,
   "id": "8e168e1f",
   "metadata": {},
   "outputs": [
    {
     "name": "stdout",
     "output_type": "stream",
     "text": [
      "['Hello', 'World!']\n",
      "Hello\n",
      "World!\n"
     ]
    }
   ],
   "source": [
    "'''\n",
    "Buch Seite 43\n",
    "'''\n",
    "\n",
    "split_word = \"Hello World!\".split()\n",
    "print(split_word)\n",
    "print(split_word[0])\n",
    "print(split_word[1])"
   ]
  },
  {
   "cell_type": "code",
   "execution_count": 6,
   "id": "9b757f57",
   "metadata": {},
   "outputs": [
    {
     "ename": "NameError",
     "evalue": "name 'word_msg' is not defined",
     "output_type": "error",
     "traceback": [
      "\u001b[0;31m---------------------------------------------------------------------------\u001b[0m",
      "\u001b[0;31mNameError\u001b[0m                                 Traceback (most recent call last)",
      "Cell \u001b[0;32mIn[6], line 2\u001b[0m\n\u001b[1;32m      1\u001b[0m world_msg \u001b[38;5;241m=\u001b[39m \u001b[38;5;124m\"\u001b[39m\u001b[38;5;124mHello World!\u001b[39m\u001b[38;5;124m\"\u001b[39m\n\u001b[0;32m----> 2\u001b[0m \u001b[38;5;28mprint\u001b[39m(\u001b[43mword_msg\u001b[49m\u001b[38;5;241m.\u001b[39msplit())\n",
      "\u001b[0;31mNameError\u001b[0m: name 'word_msg' is not defined"
     ]
    }
   ],
   "source": [
    "world_msg = \"Hello World!\"\n",
    "print(word_msg.split())"
   ]
  },
  {
   "cell_type": "code",
   "execution_count": null,
   "id": "ca7a90af",
   "metadata": {},
   "outputs": [],
   "source": [
    "def greet_me(a_name):\n",
    "    print(\"Hello \"+a_name)\n",
    "    \n",
    "author = \"Susan E. McGregor\"\n",
    "editor = \"Jeff Bleiel\"\n",
    "greet_me(author)\n",
    "greet_me(editor)"
   ]
  },
  {
   "cell_type": "code",
   "execution_count": 7,
   "id": "e81115ac",
   "metadata": {},
   "outputs": [
    {
     "name": "stdout",
     "output_type": "stream",
     "text": [
      "291\n"
     ]
    }
   ],
   "source": [
    "'''\n",
    "Seite 48\n",
    "'''\n",
    "\n",
    "page_counts = [28,32,44,23,56,32,12,34,30]\n",
    "\n",
    "total_pages = 0\n",
    "\n",
    "for a_number in page_counts:\n",
    "    total_pages = total_pages + a_number\n",
    "    \n",
    "print(total_pages)"
   ]
  },
  {
   "cell_type": "code",
   "execution_count": 8,
   "id": "57599c66",
   "metadata": {},
   "outputs": [
    {
     "name": "stdout",
     "output_type": "stream",
     "text": [
      "291\n"
     ]
    }
   ],
   "source": [
    "# BESSER\n",
    "\n",
    "print(sum(page_counts))"
   ]
  },
  {
   "cell_type": "code",
   "execution_count": 10,
   "id": "6d681c8e",
   "metadata": {},
   "outputs": [],
   "source": [
    "sum = 190 +7"
   ]
  },
  {
   "cell_type": "code",
   "execution_count": null,
   "id": "d3f26d2e",
   "metadata": {},
   "outputs": [],
   "source": []
  }
 ],
 "metadata": {
  "kernelspec": {
   "display_name": "Python 3 (ipykernel)",
   "language": "python",
   "name": "python3"
  },
  "language_info": {
   "codemirror_mode": {
    "name": "ipython",
    "version": 3
   },
   "file_extension": ".py",
   "mimetype": "text/x-python",
   "name": "python",
   "nbconvert_exporter": "python",
   "pygments_lexer": "ipython3",
   "version": "3.10.9"
  }
 },
 "nbformat": 4,
 "nbformat_minor": 5
}
